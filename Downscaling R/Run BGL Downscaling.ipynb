{
 "cells": [
  {
   "cell_type": "code",
   "execution_count": 18,
   "id": "1c2e50f2-5b47-4752-bd1c-736f121020e1",
   "metadata": {},
   "outputs": [],
   "source": [
    "#arg1: This is the path to your working directory.\n",
    "\n",
    "path <- \"/home/jovyan/efs/tools/Downscaling/BGL/R/\""
   ]
  },
  {
   "cell_type": "code",
   "execution_count": 19,
   "id": "e87ee2ed-97c7-4add-8c14-96fdc3c96e06",
   "metadata": {},
   "outputs": [],
   "source": [
    "#set Frequency of your data. For example if its is monthly data,\n",
    "#frequency is 12. If it is daily data, frequency is 365.\n",
    "\n",
    "#arg3: This argument is to choose between standard downscaling and\n",
    "#BGL downscaling. As you perform standard downscaling, type “off”.\n",
    "\n",
    "#import the function\n",
    "source(\"Downscaling.R\")"
   ]
  },
  {
   "cell_type": "code",
   "execution_count": 20,
   "id": "70c9d57c-e39b-443b-9985-b06a79cdc4c6",
   "metadata": {},
   "outputs": [
    {
     "name": "stdout",
     "output_type": "stream",
     "text": [
      "[1] \"Starting the Downscaling function...\"\n",
      "[1] \"fwrite begin\"\n"
     ]
    },
    {
     "name": "stderr",
     "output_type": "stream",
     "text": [
      "x being coerced from class: matrix to data.table\n",
      "\n",
      "x being coerced from class: matrix to data.table\n",
      "\n"
     ]
    },
    {
     "name": "stdout",
     "output_type": "stream",
     "text": [
      "[1] \"fwrite end\"\n",
      "Mean estimation starts!\n",
      "Location 1 \n",
      "Mean estimation ends!\n"
     ]
    },
    {
     "name": "stderr",
     "output_type": "stream",
     "text": [
      "x being coerced from class: matrix to data.table\n",
      "\n",
      "x being coerced from class: matrix to data.table\n",
      "\n"
     ]
    },
    {
     "name": "stdout",
     "output_type": "stream",
     "text": [
      "Number of variables (p): 2 \n",
      "Number of locations (n): 4904 \n",
      "Number of realizations (m): 192 \n"
     ]
    },
    {
     "name": "stderr",
     "output_type": "stream",
     "text": [
      "Warning message in is.nloptr(ret):\n",
      "“a gradient was supplied for the inequality constraints, but algorithm NLOPT_LN_COBYLA does not use gradients.”\n",
      "Warning message in is.nloptr(ret):\n",
      "“a gradient was supplied for the inequality constraints, but algorithm NLOPT_LN_COBYLA does not use gradients.”\n"
     ]
    },
    {
     "name": "stdout",
     "output_type": "stream",
     "text": [
      "Starting Iter: 1...linearization......BGL...\n",
      "\n",
      "Ending Iter: 1, norm: 2.187404465018e+00\n",
      "\n",
      "Starting Iter: 2...linearization......BGL...\n",
      "\n",
      "Ending Iter: 2, norm: 1.173756529150e-04\n",
      "\n",
      "t1 done!\n",
      "t2 done!\n",
      "t3 done!\n",
      "t4 done!\n",
      "t5 done!\n",
      "t6 done!\n",
      "t7 done!\n",
      "t8 done!\n",
      "t9 done!\n",
      "t10 done!\n",
      "t11 done!\n",
      "t12 done!\n",
      "\n"
     ]
    }
   ],
   "source": [
    "#run downscaling function Downscaling(arg1, arg2, arg3)\n",
    "\n",
    "Downscaling(path, 12, \"on\")"
   ]
  },
  {
   "cell_type": "code",
   "execution_count": null,
   "id": "00af0904-06c2-4110-a453-7a49e1584c81",
   "metadata": {},
   "outputs": [],
   "source": []
  }
 ],
 "metadata": {
  "kernelspec": {
   "display_name": "R",
   "language": "R",
   "name": "ir"
  },
  "language_info": {
   "codemirror_mode": "r",
   "file_extension": ".r",
   "mimetype": "text/x-r-source",
   "name": "R",
   "pygments_lexer": "r",
   "version": "4.4.1"
  }
 },
 "nbformat": 4,
 "nbformat_minor": 5
}
